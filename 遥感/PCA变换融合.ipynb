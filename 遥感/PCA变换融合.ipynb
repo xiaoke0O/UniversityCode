{
 "cells": [
  {
   "cell_type": "markdown",
   "id": "respective-steal",
   "metadata": {},
   "source": [
    "# PCA变换融合\n",
    "## PCA变换\n",
    "PCA变换(principal component analysis transform)，PCA称为主成分分析"
   ]
  },
  {
   "cell_type": "markdown",
   "id": "practical-prediction",
   "metadata": {},
   "source": [
    "### 计算原图像的协方差矩阵\n",
    "设原图像向量为$f$，即$f^\\mathrm{T}=[f_1,f_2,\\ldots,f_p]$\n",
    "\n",
    "其中$p$为多光谱图像的波段数。\n",
    "\n",
    "令原图像的协方差矩阵为$C_f$,令：\n",
    "$$\n",
    "C_f=\\begin{bmatrix}\n",
    "\\sigma^2_{11} & \\sigma^2_{12} & \\ldots & \\sigma^2_{1p} \\\\\\\\\n",
    "\\sigma^2_{21} & \\sigma^2_{22} & \\ldots & \\sigma^2_{2p} \\\\\\\\\n",
    "\\vdots        & \\vdots        &        & \\vdots         \\\\\\\\\n",
    "\\sigma^2_{p1} & \\sigma^2_{p2} & \\ldots & \\sigma^2_{pp}\n",
    "\\end{bmatrix}\n",
    "$$\n",
    "其中，\n",
    "\n",
    "$\\sigma^2_{kl}=\\frac{1}{MN}\\sum\\limits^{N}_{i=1}\\sum\\limits^{M}_{j=1}[f_k(i,j)-E(f_k)][f_l(i,j)-E(f_l)]$\n",
    "\n",
    "$E(f_k)=\\frac{1}{MN}\\sum\\limits^N_{i=1}\\sum\\limits^M_{j=1}f_k(i,j)$。直白一点就是某一波段的像素平均值。\n",
    "\n",
    "理论介绍完了，流程如下：\n",
    "1. 读取高光谱图像\n",
    "2. 计算第一波段的像素均值 $E(f_1)$\n",
    "3. 将第一波段的所有像素减去该均值,得到矩阵 $f'_1$\n",
    "4. 对其余波段进行1、2操作，最终得到 $f'_1,f'_2,\\ldots,f'_p$,\n",
    "5. 将 $f'_p$ 两两相乘(对应元素相乘),并对相乘后的矩阵求均值，得到 $\\sigma_{kl}^2$，并组成矩阵 $C_f$"
   ]
  },
  {
   "cell_type": "code",
   "execution_count": null,
   "id": "classical-minutes",
   "metadata": {},
   "outputs": [],
   "source": [
    "def "
   ]
  },
  {
   "cell_type": "markdown",
   "id": "dimensional-swing",
   "metadata": {},
   "source": [
    "## 参考文献"
   ]
  }
 ],
 "metadata": {
  "kernelspec": {
   "display_name": "Python 3",
   "language": "python",
   "name": "python3"
  },
  "language_info": {
   "codemirror_mode": {
    "name": "ipython",
    "version": 3
   },
   "file_extension": ".py",
   "mimetype": "text/x-python",
   "name": "python",
   "nbconvert_exporter": "python",
   "pygments_lexer": "ipython3",
   "version": "3.9.2"
  },
  "toc": {
   "base_numbering": 1,
   "nav_menu": {},
   "number_sections": true,
   "sideBar": true,
   "skip_h1_title": true,
   "title_cell": "Table of Contents",
   "title_sidebar": "Contents",
   "toc_cell": false,
   "toc_position": {
    "height": "calc(100% - 180px)",
    "left": "10px",
    "top": "150px",
    "width": "226px"
   },
   "toc_section_display": true,
   "toc_window_display": true
  },
  "varInspector": {
   "cols": {
    "lenName": 16,
    "lenType": 16,
    "lenVar": 40
   },
   "kernels_config": {
    "python": {
     "delete_cmd_postfix": "",
     "delete_cmd_prefix": "del ",
     "library": "var_list.py",
     "varRefreshCmd": "print(var_dic_list())"
    },
    "r": {
     "delete_cmd_postfix": ") ",
     "delete_cmd_prefix": "rm(",
     "library": "var_list.r",
     "varRefreshCmd": "cat(var_dic_list()) "
    }
   },
   "types_to_exclude": [
    "module",
    "function",
    "builtin_function_or_method",
    "instance",
    "_Feature"
   ],
   "window_display": false
  }
 },
 "nbformat": 4,
 "nbformat_minor": 5
}
